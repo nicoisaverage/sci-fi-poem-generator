{
 "cells": [
  {
   "cell_type": "code",
   "execution_count": null,
   "metadata": {},
   "outputs": [],
   "source": [
    "filenames = ['lostworld.txt', 'triplanetary.txt', 'deathworld.txt', 'waroftheworlds.txt', 'thelastman.txt']\n",
    "\n",
    "with open('/Users/Nick/scifitext.txt', 'w') as outfile: ## concatenating the novels and writing new file \n",
    "    for fname in filenames:\n",
    "        with open(fname) as infile:\n",
    "            for line in infile:\n",
    "                outfile.write(line)"
   ]
  },
  {
   "cell_type": "code",
   "execution_count": 1,
   "metadata": {},
   "outputs": [],
   "source": [
    "import nltk \n",
    "import random \n",
    "import numpy as np \n",
    "import textwrap"
   ]
  },
  {
   "cell_type": "code",
   "execution_count": 2,
   "metadata": {},
   "outputs": [],
   "source": [
    "text = open(\"scifitext.txt\", \"r\").read()\n",
    "text = ''.join([i for i in text if not i.isdigit()]).replace(\"\\n\", \" \").replace('\"', \"\").replace(\"--\", \" \").split(' ')"
   ]
  },
  {
   "cell_type": "code",
   "execution_count": 3,
   "metadata": {},
   "outputs": [],
   "source": [
    "def make_pairs(text):\n",
    "    for i in range(len(text)-1):\n",
    "        yield (text[i], text[i+1])\n",
    "pairs = make_pairs(text)"
   ]
  },
  {
   "cell_type": "code",
   "execution_count": 4,
   "metadata": {},
   "outputs": [],
   "source": [
    "word_dict = {}\n",
    "\n",
    "for word_1, word_2 in pairs:\n",
    "    if word_1 in word_dict.keys():\n",
    "        word_dict[word_1].append(word_2)\n",
    "    else:\n",
    "        word_dict[word_1] = [word_2]"
   ]
  },
  {
   "cell_type": "code",
   "execution_count": 5,
   "metadata": {},
   "outputs": [],
   "source": [
    "first_word = np.random.choice(text)\n",
    "\n",
    "while first_word.islower():\n",
    "    first_word = np.random.choice(text)\n",
    "    \n",
    "chain = [first_word]\n",
    "\n",
    "n_words = 127\n",
    "\n",
    "for i in range(n_words):\n",
    "    chain.append(np.random.choice(word_dict[chain[-1]]))"
   ]
  },
  {
   "cell_type": "code",
   "execution_count": 6,
   "metadata": {},
   "outputs": [
    {
     "name": "stdout",
     "output_type": "stream",
     "text": [
      "The lifeboat had sent us\n",
      "out the suddenness of\n",
      "thousands lived in sight\n",
      "it over would be ensured\n",
      "by the perimeter and the\n",
      "past.   You keep on\n",
      "questioning her virgin\n",
      "heart, its own loved you\n",
      "already packed everything\n",
      "I saw. The _Pride of the\n",
      "time have crushed down at\n",
      "creation's day, palm\n",
      "trees there. In some\n",
      "planets.   May before the\n",
      "scene of Patroclus made\n",
      "no one half of authority,\n",
      "quite sure from the\n",
      "summit to prodigality the\n",
      "seasons change, nor any\n",
      "radioactive elements and\n",
      "I really a hundred feet,\n",
      "and inquiring looks,\n",
      "scowling distantly. Then\n",
      "leave of Tellurian\n",
      "officers were gathered to\n",
      "be permitted to curtail\n",
      "it. He spent a\n",
      "discreditable business.\n",
      "None other. We did rough\n",
      "stuff. You'll feel the\n",
      "Professor Challenger\n"
     ]
    }
   ],
   "source": [
    "print(textwrap.fill(' '.join(chain), 25))"
   ]
  }
 ],
 "metadata": {
  "kernelspec": {
   "display_name": "Python 3",
   "language": "python",
   "name": "python3"
  },
  "language_info": {
   "codemirror_mode": {
    "name": "ipython",
    "version": 3
   },
   "file_extension": ".py",
   "mimetype": "text/x-python",
   "name": "python",
   "nbconvert_exporter": "python",
   "pygments_lexer": "ipython3",
   "version": "3.7.1"
  }
 },
 "nbformat": 4,
 "nbformat_minor": 2
}
