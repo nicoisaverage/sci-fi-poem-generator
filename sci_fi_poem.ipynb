{
 "cells": [
  {
   "cell_type": "code",
   "execution_count": 5,
   "metadata": {},
   "outputs": [],
   "source": [
    "filenames = ['lostworld.txt', 'triplanetary.txt', 'deathworld.txt', 'waroftheworlds.txt', 'thelastman.txt']\n",
    "\n",
    "with open('/Users/Nick/scifitext.txt', 'w') as outfile: ## concatenating the novels and writing new file \n",
    "    for fname in filenames:\n",
    "        with open(fname) as infile:\n",
    "            for line in infile:\n",
    "                outfile.write(line)"
   ]
  },
  {
   "cell_type": "code",
   "execution_count": 27,
   "metadata": {},
   "outputs": [
    {
     "name": "stderr",
     "output_type": "stream",
     "text": [
      "[nltk_data] Downloading package punkt to\n",
      "[nltk_data]     C:\\Users\\Nick\\AppData\\Roaming\\nltk_data...\n",
      "[nltk_data]   Package punkt is already up-to-date!\n"
     ]
    }
   ],
   "source": [
    "import nltk \n",
    "nltk.download('punkt')\n",
    "import random \n",
    "import sys "
   ]
  },
  {
   "cell_type": "code",
   "execution_count": 28,
   "metadata": {},
   "outputs": [],
   "source": [
    "text = open(\"scifitext.txt\", \"r\").read()\n",
    "text = ''.join([i for i in text if not i.isdigit()]).replace(\"/n\", \" \").split(' ')"
   ]
  },
  {
   "cell_type": "code",
   "execution_count": 29,
   "metadata": {},
   "outputs": [],
   "source": [
    "index = 1 \n",
    "chain = {}\n",
    "count = 75 \n",
    "\n",
    "for word in text[index:]:\n",
    "    key = text[index - 1]\n",
    "    if key in chain:\n",
    "        chain[key].append(word)\n",
    "    else:\n",
    "        chain[key] = [word]\n",
    "    index += 1"
   ]
  },
  {
   "cell_type": "code",
   "execution_count": 30,
   "metadata": {},
   "outputs": [],
   "source": [
    "word1 = random.choice(list(chain.keys()))\n",
    "message = word1.capitalize()"
   ]
  },
  {
   "cell_type": "code",
   "execution_count": 31,
   "metadata": {},
   "outputs": [],
   "source": [
    "while len(message.split(' ')) < count:\n",
    "    word2 = random.choice(chain[word1])\n",
    "    word1 = word2\n",
    "    message += ' ' + word2"
   ]
  },
  {
   "cell_type": "code",
   "execution_count": 32,
   "metadata": {},
   "outputs": [
    {
     "name": "stdout",
     "output_type": "stream",
     "text": [
      "Pneumonia. Guaranteed fatal night, to be bestowed my feeling; without saying that of the Nevian lifeboat, and went on: \"Conway dearest part of his commanding officer argued. \"In addition to Idris, in the dark hull right up in our only to our investigation, we lose,\" Costigan shut and where\n",
      "he died; by a journey in preference to find out\n",
      "about our being, thou hope that so that officer reported.\n",
      "\"Gnawed bones were a sterile rocks\n",
      "about me, don't try\n"
     ]
    }
   ],
   "source": [
    "with open(\"poem.txt\", \"w\") as file:\n",
    "    file.write(message)\n",
    "output = open(\"poem.txt\", \"r\")\n",
    "print(output.read())"
   ]
  },
  {
   "cell_type": "code",
   "execution_count": null,
   "metadata": {},
   "outputs": [],
   "source": []
  }
 ],
 "metadata": {
  "kernelspec": {
   "display_name": "Python 3",
   "language": "python",
   "name": "python3"
  },
  "language_info": {
   "codemirror_mode": {
    "name": "ipython",
    "version": 3
   },
   "file_extension": ".py",
   "mimetype": "text/x-python",
   "name": "python",
   "nbconvert_exporter": "python",
   "pygments_lexer": "ipython3",
   "version": "3.7.1"
  }
 },
 "nbformat": 4,
 "nbformat_minor": 2
}
