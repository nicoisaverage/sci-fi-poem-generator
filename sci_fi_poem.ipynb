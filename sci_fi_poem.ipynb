{
 "cells": [
  {
   "cell_type": "code",
   "execution_count": 1,
   "metadata": {},
   "outputs": [],
   "source": [
    "filenames = ['lostworld.txt', 'triplanetary.txt', 'deathworld.txt', 'waroftheworlds.txt', 'thelastman.txt']\n",
    "\n",
    "with open('/Users/Nick/scifitext.txt', 'w') as outfile: ## concatenating the novels and writing new file \n",
    "    for fname in filenames:\n",
    "        with open(fname) as infile:\n",
    "            for line in infile:\n",
    "                outfile.write(line)"
   ]
  },
  {
   "cell_type": "code",
   "execution_count": 2,
   "metadata": {},
   "outputs": [
    {
     "name": "stderr",
     "output_type": "stream",
     "text": [
      "[nltk_data] Downloading package punkt to\n",
      "[nltk_data]     C:\\Users\\Nick\\AppData\\Roaming\\nltk_data...\n",
      "[nltk_data]   Package punkt is already up-to-date!\n"
     ]
    }
   ],
   "source": [
    "import nltk \n",
    "nltk.download('punkt')\n",
    "import random \n",
    "import sys\n",
    "import re \n",
    "import string\n",
    "import textwrap"
   ]
  },
  {
   "cell_type": "code",
   "execution_count": 3,
   "metadata": {},
   "outputs": [],
   "source": [
    "text = open(\"scifitext.txt\", \"r\").read()\n",
    "text = ''.join([i for i in text if not i.isdigit()]).replace(\"/n\", \" \").split(' ')"
   ]
  },
  {
   "cell_type": "code",
   "execution_count": 4,
   "metadata": {},
   "outputs": [],
   "source": [
    "index = 1 \n",
    "chain = {}\n",
    "count = 100 \n",
    "\n",
    "for word in text[index:]:\n",
    "    key = text[index - 1]\n",
    "    if key in chain:\n",
    "        chain[key].append(word)\n",
    "    else:\n",
    "        chain[key] = [word]\n",
    "    index += 1"
   ]
  },
  {
   "cell_type": "code",
   "execution_count": 5,
   "metadata": {},
   "outputs": [],
   "source": [
    "word1 = random.choice(list(chain.keys()))\n",
    "message = word1.capitalize()"
   ]
  },
  {
   "cell_type": "code",
   "execution_count": 6,
   "metadata": {},
   "outputs": [],
   "source": [
    "while len(message.split(' ')) < count:\n",
    "    word2 = random.choice(chain[word1])\n",
    "    word1 = word2\n",
    "    message += ' ' + word2"
   ]
  },
  {
   "cell_type": "code",
   "execution_count": 8,
   "metadata": {},
   "outputs": [
    {
     "name": "stdout",
     "output_type": "stream",
     "text": [
      "Over-head; they please.\n",
      "None of now fourteen;\n",
      "sorrow, and contour of\n",
      "equal growth, shared\n",
      "Perdita's name and check\n",
      "that the whisky-maddened\n",
      "figure which I lose--?\"\n",
      "Kerk thought of bliss.\n",
      "And there any chance,\n",
      "however small evil--or\n",
      "rather deep artificial\n",
      "lake below and up to go\n",
      "to be Old Pyrrans\n",
      "serviced and entered the\n",
      "waves. I spoke to begin.\n",
      "He would I think.\"  \"What\n",
      "are natural,[]  we felt\n",
      "that occasioned the full\n",
      "tempest of our\n",
      "breakfast.\"  He stepped\n",
      "forward and pressed mine,\n",
      "and plunge it down as the\n",
      "same tyranny. His\n",
      "pattering rain made him\n",
      "and illustrious a check\n",
      "to which had been\n",
      "attacked the scene\n",
      "presented pleasant\n",
      "playmates.\" Jason circled\n",
      "her to play\n"
     ]
    }
   ],
   "source": [
    "print(textwrap.fill(message, 25))"
   ]
  }
 ],
 "metadata": {
  "kernelspec": {
   "display_name": "Python 3",
   "language": "python",
   "name": "python3"
  },
  "language_info": {
   "codemirror_mode": {
    "name": "ipython",
    "version": 3
   },
   "file_extension": ".py",
   "mimetype": "text/x-python",
   "name": "python",
   "nbconvert_exporter": "python",
   "pygments_lexer": "ipython3",
   "version": "3.7.1"
  }
 },
 "nbformat": 4,
 "nbformat_minor": 2
}
