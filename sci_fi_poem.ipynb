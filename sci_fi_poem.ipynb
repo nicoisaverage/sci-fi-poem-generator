{
 "cells": [
  {
   "cell_type": "code",
   "execution_count": 1,
   "metadata": {},
   "outputs": [],
   "source": [
    "filenames = ['lostworld.txt', 'triplanetary.txt', 'deathworld.txt', 'waroftheworlds.txt', 'thelastman.txt']\n",
    "\n",
    "with open('/Users/Nick/scifitext.txt', 'w') as outfile: ## concatenating the novels and writing new file \n",
    "    for fname in filenames:\n",
    "        with open(fname) as infile:\n",
    "            for line in infile:\n",
    "                outfile.write(line)"
   ]
  },
  {
   "cell_type": "code",
   "execution_count": 2,
   "metadata": {},
   "outputs": [],
   "source": [
    "import nltk \n",
    "import random \n",
    "import sys\n",
    "import re \n",
    "import string\n",
    "import textwrap"
   ]
  },
  {
   "cell_type": "code",
   "execution_count": 3,
   "metadata": {},
   "outputs": [],
   "source": [
    "text = open(\"scifitext.txt\", \"r\").read()\n",
    "text = ''.join([i for i in text if not i.isdigit()]).replace(\"/n\", \" \").replace('\"', \"\").split(' ')"
   ]
  },
  {
   "cell_type": "code",
   "execution_count": 18,
   "metadata": {},
   "outputs": [],
   "source": [
    "index = 1 \n",
    "chain = {}\n",
    "count = 100 \n",
    "\n",
    "for word in text[index:]:\n",
    "    key = text[index - 1]\n",
    "    if key in chain:\n",
    "        chain[key].append(word)\n",
    "    else:\n",
    "        chain[key] = [word]\n",
    "    index += 1"
   ]
  },
  {
   "cell_type": "code",
   "execution_count": 19,
   "metadata": {},
   "outputs": [],
   "source": [
    "word1 = random.choice(list(chain.keys()))\n",
    "message = word1.capitalize()"
   ]
  },
  {
   "cell_type": "code",
   "execution_count": 20,
   "metadata": {},
   "outputs": [],
   "source": [
    "while len(message.split(' ')) < count:\n",
    "    word2 = random.choice(chain[word1])\n",
    "    word1 = word2\n",
    "    message += ' ' + word2"
   ]
  },
  {
   "cell_type": "code",
   "execution_count": 21,
   "metadata": {},
   "outputs": [
    {
     "name": "stdout",
     "output_type": "stream",
     "text": [
      "Better keep on slowly,\n",
      "grimly, for being closed.\n",
      "Jason broke off, writhing\n",
      "mass assaults anyone\n",
      "anywhere at three\n",
      "o'clock, as they come\n",
      "forth.   That is like\n",
      "morning all that I have a\n",
      "look;--You know his fire\n",
      "in daylight.  One man\n",
      "whose night before; and,\n",
      "elevated almost to\n",
      "preserve one human being\n",
      "in finding her excellence\n",
      "appreciated, and wise\n",
      "men. The Turks resisted\n",
      "to keep them.  Make them\n",
      "to grips with romantic\n",
      "colouring, than mine,\n",
      "then! Artomenes demanded,\n",
      "glancing beneath its\n",
      "heavy rain is brighter\n",
      "than ever computed\n",
      "position of the first I\n",
      "inherited it was about to\n",
      "see him in bestowing on a\n",
      "bitter, joyless, hopeless\n",
      "misery. What, if we got\n"
     ]
    }
   ],
   "source": [
    "print(textwrap.fill(message, 25))"
   ]
  },
  {
   "cell_type": "code",
   "execution_count": null,
   "metadata": {},
   "outputs": [],
   "source": []
  }
 ],
 "metadata": {
  "kernelspec": {
   "display_name": "Python 3",
   "language": "python",
   "name": "python3"
  },
  "language_info": {
   "codemirror_mode": {
    "name": "ipython",
    "version": 3
   },
   "file_extension": ".py",
   "mimetype": "text/x-python",
   "name": "python",
   "nbconvert_exporter": "python",
   "pygments_lexer": "ipython3",
   "version": "3.7.1"
  }
 },
 "nbformat": 4,
 "nbformat_minor": 2
}
